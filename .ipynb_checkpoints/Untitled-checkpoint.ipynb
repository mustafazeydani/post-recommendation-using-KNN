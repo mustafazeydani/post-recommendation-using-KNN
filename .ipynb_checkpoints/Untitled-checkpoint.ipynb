{
 "cells": [
  {
   "cell_type": "markdown",
   "id": "610f482a-7e0d-4abb-8205-f0c4e9f1b255",
   "metadata": {},
   "source": [
    "## Creating the rating column"
   ]
  },
  {
   "cell_type": "code",
   "execution_count": 6,
   "id": "ee1b2104-56a7-4b64-aa99-8327f5c73d8c",
   "metadata": {},
   "outputs": [],
   "source": [
    "import pandas as pd\n",
    "import numpy as np\n",
    "\n",
    "# Load the dataset\n",
    "view_data = pd.read_csv('view_data.csv')\n",
    "\n",
    "# Drop the time_stamp column\n",
    "view_data = view_data.drop(columns=['time_stamp'])\n",
    "\n",
    "# Generate a random probability for 0 between 90% and 95%\n",
    "prob_zero = np.random.uniform(0.90, 0.95)\n",
    "\n",
    "# Remaining probability for 1, 2, 3\n",
    "remaining_prob = 1 - prob_zero\n",
    "\n",
    "# Generate random probabilities for 1, 2, and 3\n",
    "prob_remaining = np.random.dirichlet(np.ones(3)) * remaining_prob\n",
    "\n",
    "# Assign probabilities for the ratings\n",
    "ratings = np.random.choice(\n",
    "    [0, 1, 2, 3],\n",
    "    size=len(view_data),\n",
    "    p=[prob_zero, prob_remaining[0], prob_remaining[1], prob_remaining[2]]\n",
    ")\n",
    "\n",
    "# Add the ratings column to the dataset\n",
    "view_data['rating'] = ratings"
   ]
  }
 ],
 "metadata": {
  "kernelspec": {
   "display_name": "Python 3 (ipykernel)",
   "language": "python",
   "name": "python3"
  },
  "language_info": {
   "codemirror_mode": {
    "name": "ipython",
    "version": 3
   },
   "file_extension": ".py",
   "mimetype": "text/x-python",
   "name": "python",
   "nbconvert_exporter": "python",
   "pygments_lexer": "ipython3",
   "version": "3.13.0"
  }
 },
 "nbformat": 4,
 "nbformat_minor": 5
}
